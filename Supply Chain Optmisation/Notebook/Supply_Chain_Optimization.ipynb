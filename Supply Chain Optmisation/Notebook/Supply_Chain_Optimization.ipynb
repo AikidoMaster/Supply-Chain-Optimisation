{
  "nbformat": 4,
  "nbformat_minor": 0,
  "metadata": {
    "colab": {
      "provenance": []
    },
    "kernelspec": {
      "name": "python3",
      "display_name": "Python 3"
    },
    "language_info": {
      "name": "python"
    }
  },
  "cells": [
    {
      "cell_type": "markdown",
      "source": [
        "## Import the libraries"
      ],
      "metadata": {
        "id": "9mov8vVN0wAa"
      }
    },
    {
      "cell_type": "code",
      "execution_count": 2,
      "metadata": {
        "id": "3ijafRvqzGzv"
      },
      "outputs": [],
      "source": [
        "import pandas as pd\n",
        "import numpy as np\n",
        "from scipy.optimize import linprog\n",
        "import matplotlib.pyplot as plt\n",
        "import seaborn as sns\n",
        "from flask import Flask, jsonify\n",
        "import os"
      ]
    },
    {
      "cell_type": "markdown",
      "source": [
        "## Load the dataset from Colab env"
      ],
      "metadata": {
        "id": "N3p9uLup0_U5"
      }
    },
    {
      "cell_type": "code",
      "source": [
        "file_path = \"/content/train.csv\"\n"
      ],
      "metadata": {
        "id": "bpHd8tRG1CKZ"
      },
      "execution_count": 5,
      "outputs": []
    },
    {
      "cell_type": "markdown",
      "source": [
        "## Read the Dataset"
      ],
      "metadata": {
        "id": "1iQa_Me31GaW"
      }
    },
    {
      "cell_type": "code",
      "source": [
        "try:\n",
        "    data = pd.read_csv(file_path)\n",
        "except FileNotFoundError:\n",
        "    raise FileNotFoundError(\"Dataset not found. Make sure the file is uploaded to the correct path.\")"
      ],
      "metadata": {
        "id": "jUxioe_r1MhN"
      },
      "execution_count": 6,
      "outputs": []
    },
    {
      "cell_type": "markdown",
      "source": [
        "## Data Cleaning and Aggregation"
      ],
      "metadata": {
        "id": "wY6yCUMJ1svK"
      }
    },
    {
      "cell_type": "code",
      "source": [
        "print(\"Initial Data Information:\")\n",
        "data.info()\n"
      ],
      "metadata": {
        "colab": {
          "base_uri": "https://localhost:8080/"
        },
        "id": "LWGipT1n1vtO",
        "outputId": "7c48e059-13ee-448f-e13c-7263ff2857ef"
      },
      "execution_count": 7,
      "outputs": [
        {
          "output_type": "stream",
          "name": "stdout",
          "text": [
            "Initial Data Information:\n",
            "<class 'pandas.core.frame.DataFrame'>\n",
            "RangeIndex: 9800 entries, 0 to 9799\n",
            "Data columns (total 18 columns):\n",
            " #   Column         Non-Null Count  Dtype  \n",
            "---  ------         --------------  -----  \n",
            " 0   Row ID         9800 non-null   int64  \n",
            " 1   Order ID       9800 non-null   object \n",
            " 2   Order Date     9800 non-null   object \n",
            " 3   Ship Date      9800 non-null   object \n",
            " 4   Ship Mode      9800 non-null   object \n",
            " 5   Customer ID    9800 non-null   object \n",
            " 6   Customer Name  9800 non-null   object \n",
            " 7   Segment        9800 non-null   object \n",
            " 8   Country        9800 non-null   object \n",
            " 9   City           9800 non-null   object \n",
            " 10  State          9800 non-null   object \n",
            " 11  Postal Code    9789 non-null   float64\n",
            " 12  Region         9800 non-null   object \n",
            " 13  Product ID     9800 non-null   object \n",
            " 14  Category       9800 non-null   object \n",
            " 15  Sub-Category   9800 non-null   object \n",
            " 16  Product Name   9800 non-null   object \n",
            " 17  Sales          9800 non-null   float64\n",
            "dtypes: float64(2), int64(1), object(15)\n",
            "memory usage: 1.3+ MB\n"
          ]
        }
      ]
    },
    {
      "cell_type": "markdown",
      "source": [
        "## Convert dates to datetime format"
      ],
      "metadata": {
        "id": "SfS5JjQH1zil"
      }
    },
    {
      "cell_type": "code",
      "source": [
        "data['Order Date'] = pd.to_datetime(data['Order Date'], errors='coerce')\n",
        "data['Ship Date'] = pd.to_datetime(data['Ship Date'], errors='coerce')"
      ],
      "metadata": {
        "id": "RijB6tV_1280"
      },
      "execution_count": 8,
      "outputs": []
    },
    {
      "cell_type": "markdown",
      "source": [
        "## Fill missing Postal Codes with 0"
      ],
      "metadata": {
        "id": "VvU2vDDd1410"
      }
    },
    {
      "cell_type": "code",
      "source": [
        "data['Postal Code'] = data['Postal Code'].fillna(0).astype(int)"
      ],
      "metadata": {
        "id": "EDp8hlAi1-9Z"
      },
      "execution_count": 9,
      "outputs": []
    },
    {
      "cell_type": "markdown",
      "source": [
        "## Add a new column for shipping duration"
      ],
      "metadata": {
        "id": "gIO8T0H51687"
      }
    },
    {
      "cell_type": "code",
      "source": [
        "data['Shipping_Duration'] = (data['Ship Date'] - data['Order Date']).dt.days"
      ],
      "metadata": {
        "id": "enu1w4vi2Bs5"
      },
      "execution_count": 10,
      "outputs": []
    },
    {
      "cell_type": "markdown",
      "source": [
        "## Drop rows with invalid dates or missing critical data"
      ],
      "metadata": {
        "id": "KzYlW4N62EYf"
      }
    },
    {
      "cell_type": "code",
      "source": [
        "data = data.dropna(subset=['Order Date', 'Ship Date', 'Sales'])"
      ],
      "metadata": {
        "id": "q6kWRTcA2L01"
      },
      "execution_count": 13,
      "outputs": []
    },
    {
      "cell_type": "markdown",
      "source": [
        "## Check and fill missing column"
      ],
      "metadata": {
        "id": "sPWBPBQF21k-"
      }
    },
    {
      "cell_type": "code",
      "source": [
        "if 'Profit' not in data.columns:\n",
        "    print(\"Warning: 'Profit' column not found. Adding a placeholder column with zeros.\")\n",
        "    data['Profit'] = 0\n",
        "\n",
        "if 'Quantity' not in data.columns:\n",
        "    print(\"Warning: 'Quantity' column not found. Adding a placeholder column with ones.\")\n",
        "    data['Quantity'] = 1"
      ],
      "metadata": {
        "colab": {
          "base_uri": "https://localhost:8080/"
        },
        "id": "djH70fWZ24qd",
        "outputId": "26780aca-5ec9-4fd2-f6c0-e45cc313557a"
      },
      "execution_count": 14,
      "outputs": [
        {
          "output_type": "stream",
          "name": "stdout",
          "text": [
            "Warning: 'Profit' column not found. Adding a placeholder column with zeros.\n",
            "Warning: 'Quantity' column not found. Adding a placeholder column with ones.\n"
          ]
        },
        {
          "output_type": "stream",
          "name": "stderr",
          "text": [
            "<ipython-input-14-9de30993074d>:3: SettingWithCopyWarning: \n",
            "A value is trying to be set on a copy of a slice from a DataFrame.\n",
            "Try using .loc[row_indexer,col_indexer] = value instead\n",
            "\n",
            "See the caveats in the documentation: https://pandas.pydata.org/pandas-docs/stable/user_guide/indexing.html#returning-a-view-versus-a-copy\n",
            "  data['Profit'] = 0\n",
            "<ipython-input-14-9de30993074d>:7: SettingWithCopyWarning: \n",
            "A value is trying to be set on a copy of a slice from a DataFrame.\n",
            "Try using .loc[row_indexer,col_indexer] = value instead\n",
            "\n",
            "See the caveats in the documentation: https://pandas.pydata.org/pandas-docs/stable/user_guide/indexing.html#returning-a-view-versus-a-copy\n",
            "  data['Quantity'] = 1\n"
          ]
        }
      ]
    },
    {
      "cell_type": "markdown",
      "source": [
        "## Add profit-to-sales ratio (handling division by zero)"
      ],
      "metadata": {
        "id": "r2qeEym73Atc"
      }
    },
    {
      "cell_type": "code",
      "source": [
        "data['Profit_to_Sales'] = data['Profit'] / data['Sales']\n",
        "data['Profit_to_Sales'] = data['Profit_to_Sales'].replace([np.inf, -np.inf], 0).fillna(0)"
      ],
      "metadata": {
        "colab": {
          "base_uri": "https://localhost:8080/"
        },
        "id": "na3V9S902865",
        "outputId": "89de330a-f387-4544-abe9-53cfe026b03b"
      },
      "execution_count": 15,
      "outputs": [
        {
          "output_type": "stream",
          "name": "stderr",
          "text": [
            "<ipython-input-15-c51b4956eca0>:1: SettingWithCopyWarning: \n",
            "A value is trying to be set on a copy of a slice from a DataFrame.\n",
            "Try using .loc[row_indexer,col_indexer] = value instead\n",
            "\n",
            "See the caveats in the documentation: https://pandas.pydata.org/pandas-docs/stable/user_guide/indexing.html#returning-a-view-versus-a-copy\n",
            "  data['Profit_to_Sales'] = data['Profit'] / data['Sales']\n",
            "<ipython-input-15-c51b4956eca0>:2: SettingWithCopyWarning: \n",
            "A value is trying to be set on a copy of a slice from a DataFrame.\n",
            "Try using .loc[row_indexer,col_indexer] = value instead\n",
            "\n",
            "See the caveats in the documentation: https://pandas.pydata.org/pandas-docs/stable/user_guide/indexing.html#returning-a-view-versus-a-copy\n",
            "  data['Profit_to_Sales'] = data['Profit_to_Sales'].replace([np.inf, -np.inf], 0).fillna(0)\n"
          ]
        }
      ]
    },
    {
      "cell_type": "markdown",
      "source": [
        "## Aggregated data for optimization"
      ],
      "metadata": {
        "id": "PEczReAa3HEC"
      }
    },
    {
      "cell_type": "code",
      "source": [
        "aggregated_data = data.groupby(['Region', 'Category']).agg({\n",
        "    'Sales': 'sum',\n",
        "    'Profit': 'sum',\n",
        "    'Quantity': 'sum',\n",
        "    'Shipping_Duration': 'mean'\n",
        "}).reset_index()\n",
        "\n",
        "print(\"Aggregated Data:\")\n",
        "print(aggregated_data.head())"
      ],
      "metadata": {
        "colab": {
          "base_uri": "https://localhost:8080/"
        },
        "id": "1VvmLDup3Mon",
        "outputId": "d9d02d7d-1053-4723-cda6-3bf9a1c860bb"
      },
      "execution_count": 17,
      "outputs": [
        {
          "output_type": "stream",
          "name": "stdout",
          "text": [
            "Aggregated Data:\n",
            "    Region         Category       Sales  Profit  Quantity  Shipping_Duration\n",
            "0  Central        Furniture  47318.7864       0       121         111.256198\n",
            "1  Central  Office Supplies  35859.3440       0       399         112.406015\n",
            "2  Central       Technology  64231.8360       0       116         114.129310\n",
            "3     East        Furniture  51446.3450       0       171         109.947368\n",
            "4     East  Office Supplies  52083.3340       0       447         106.411633\n"
          ]
        }
      ]
    },
    {
      "cell_type": "markdown",
      "source": [
        "## Optimization Model: Linear Programming Example"
      ],
      "metadata": {
        "id": "FdP88N2X3POd"
      }
    },
    {
      "cell_type": "code",
      "source": [
        "regions = aggregated_data['Region'].unique()\n",
        "categories = aggregated_data['Category'].unique()"
      ],
      "metadata": {
        "id": "BHPMZQ6O3Vi8"
      },
      "execution_count": 18,
      "outputs": []
    },
    {
      "cell_type": "markdown",
      "source": [
        "## Simulated costs and constraints"
      ],
      "metadata": {
        "id": "fYTe9O8c3Xse"
      }
    },
    {
      "cell_type": "code",
      "source": [
        "costs = np.random.randint(10, 50, len(regions))  # Simulated costs per region\n",
        "demand = np.random.randint(100, 300, len(regions))  # Simulated demand per region\n",
        "supply = np.random.randint(200, 500, len(regions))  # Simulated supply per region\n",
        "\n",
        "objective = costs\n",
        "A_eq = np.eye(len(regions))\n",
        "b_eq = demand\n",
        "bounds = [(0, supply[i]) for i in range(len(supply))]\n",
        "\n",
        "result = linprog(objective, A_eq=A_eq, b_eq=b_eq, bounds=bounds, method='highs')\n",
        "print(\"Optimization Results:\")\n",
        "print(result)\n"
      ],
      "metadata": {
        "colab": {
          "base_uri": "https://localhost:8080/"
        },
        "id": "1cZ1_-Dc3adg",
        "outputId": "7de13563-7e5f-4208-8483-6b881ee4ce7d"
      },
      "execution_count": 19,
      "outputs": [
        {
          "output_type": "stream",
          "name": "stdout",
          "text": [
            "Optimization Results:\n",
            "        message: Optimization terminated successfully. (HiGHS Status 7: Optimal)\n",
            "        success: True\n",
            "         status: 0\n",
            "            fun: 29942.0\n",
            "              x: [ 2.810e+02  1.520e+02  2.640e+02  1.290e+02]\n",
            "            nit: 0\n",
            "          lower:  residual: [ 2.810e+02  1.520e+02  2.640e+02  1.290e+02]\n",
            "                 marginals: [ 0.000e+00  0.000e+00  0.000e+00  0.000e+00]\n",
            "          upper:  residual: [ 5.900e+01  3.300e+02  9.900e+01  2.900e+02]\n",
            "                 marginals: [ 0.000e+00  0.000e+00  0.000e+00  0.000e+00]\n",
            "          eqlin:  residual: [ 0.000e+00  0.000e+00  0.000e+00  0.000e+00]\n",
            "                 marginals: [ 4.200e+01  1.900e+01  4.800e+01  2.000e+01]\n",
            "        ineqlin:  residual: []\n",
            "                 marginals: []\n",
            " mip_node_count: 0\n",
            " mip_dual_bound: 0.0\n",
            "        mip_gap: 0.0\n"
          ]
        }
      ]
    },
    {
      "cell_type": "markdown",
      "source": [
        "## Simulation: Demand surge and supply constraints"
      ],
      "metadata": {
        "id": "pVHAxhG83d-R"
      }
    },
    {
      "cell_type": "code",
      "source": [
        "data['Demand_Surge'] = data['Quantity'] * np.random.uniform(1.1, 1.3, len(data))\n",
        "data['Supply_Constraint'] = data['Region'].apply(lambda x: 0.8 if x == 'Central' else 1.0)\n",
        "data['Adjusted_Quantity'] = data['Quantity'] * data['Supply_Constraint']\n"
      ],
      "metadata": {
        "colab": {
          "base_uri": "https://localhost:8080/"
        },
        "id": "iqPVxO5p3hv5",
        "outputId": "b8a07d7f-18ca-43ed-cc6b-f08f2bacdc1a"
      },
      "execution_count": 20,
      "outputs": [
        {
          "output_type": "stream",
          "name": "stderr",
          "text": [
            "<ipython-input-20-8bcb190ab5df>:1: SettingWithCopyWarning: \n",
            "A value is trying to be set on a copy of a slice from a DataFrame.\n",
            "Try using .loc[row_indexer,col_indexer] = value instead\n",
            "\n",
            "See the caveats in the documentation: https://pandas.pydata.org/pandas-docs/stable/user_guide/indexing.html#returning-a-view-versus-a-copy\n",
            "  data['Demand_Surge'] = data['Quantity'] * np.random.uniform(1.1, 1.3, len(data))\n",
            "<ipython-input-20-8bcb190ab5df>:2: SettingWithCopyWarning: \n",
            "A value is trying to be set on a copy of a slice from a DataFrame.\n",
            "Try using .loc[row_indexer,col_indexer] = value instead\n",
            "\n",
            "See the caveats in the documentation: https://pandas.pydata.org/pandas-docs/stable/user_guide/indexing.html#returning-a-view-versus-a-copy\n",
            "  data['Supply_Constraint'] = data['Region'].apply(lambda x: 0.8 if x == 'Central' else 1.0)\n",
            "<ipython-input-20-8bcb190ab5df>:3: SettingWithCopyWarning: \n",
            "A value is trying to be set on a copy of a slice from a DataFrame.\n",
            "Try using .loc[row_indexer,col_indexer] = value instead\n",
            "\n",
            "See the caveats in the documentation: https://pandas.pydata.org/pandas-docs/stable/user_guide/indexing.html#returning-a-view-versus-a-copy\n",
            "  data['Adjusted_Quantity'] = data['Quantity'] * data['Supply_Constraint']\n"
          ]
        }
      ]
    },
    {
      "cell_type": "markdown",
      "source": [
        "## Visualization"
      ],
      "metadata": {
        "id": "CNA6KOUe3lA0"
      }
    },
    {
      "cell_type": "code",
      "source": [
        "plt.figure(figsize=(8, 5))\n",
        "sns.barplot(data=aggregated_data, x='Region', y='Sales', hue='Category')\n",
        "plt.title('Sales by Region and Category')\n",
        "plt.show()"
      ],
      "metadata": {
        "colab": {
          "base_uri": "https://localhost:8080/",
          "height": 458
        },
        "id": "3GsoGt3U3myU",
        "outputId": "cbde9121-afc0-4198-cd42-cfdf2d33d204"
      },
      "execution_count": 21,
      "outputs": [
        {
          "output_type": "display_data",
          "data": {
            "text/plain": [
              "<Figure size 800x500 with 1 Axes>"
            ],
            "image/png": "[encoded data removed]"
          },
          "metadata": {}
        }
      ]
    },
    {
      "cell_type": "markdown",
      "source": [
        "## Flask"
      ],
      "metadata": {
        "id": "THQ0Gat_4IBd"
      }
    },
    {
      "cell_type": "code",
      "source": [
        "app = Flask(__name__)\n",
        "\n",
        "@app.route('/aggregated-data', methods=['GET'])\n",
        "def get_aggregated_data():\n",
        "    return jsonify(aggregated_data.to_dict(orient='records'))\n",
        "\n",
        "if __name__ == \"__main__\":\n",
        "    app.run(debug=True)\n",
        "\n",
        "\n",
        "\"\"\"\n",
        "OR if you are using Colab\n",
        "!pip install flask-ngrok\n",
        "\n",
        "from flask import Flask, jsonify\n",
        "from flask_ngrok import run_with_ngrok\n",
        "\n",
        "app = Flask(__name__)\n",
        "run_with_ngrok(app)  # Start ngrok when the app is run\n",
        "\n",
        "@app.route('/aggregated-data', methods=['GET'])\n",
        "def get_aggregated_data():\n",
        "    return jsonify(aggregated_data.to_dict(orient='records'))\n",
        "\n",
        "if __name__ == '__main__':\n",
        "    app.run()\n",
        "\"\"\""
      ],
      "metadata": {
        "colab": {
          "base_uri": "https://localhost:8080/"
        },
        "id": "DBS91cwx3qGy",
        "outputId": "c34174b4-e126-4822-d653-f3e730ce2b80"
      },
      "execution_count": 27,
      "outputs": [
        {
          "output_type": "stream",
          "name": "stdout",
          "text": [
            " * Serving Flask app '__main__'\n",
            " * Debug mode: on\n"
          ]
        },
        {
          "output_type": "stream",
          "name": "stderr",
          "text": [
            "INFO:werkzeug:\u001b[31m\u001b[1mWARNING: This is a development server. Do not use it in a production deployment. Use a production WSGI server instead.\u001b[0m\n",
            " * Running on http://127.0.0.1:5000\n",
            "INFO:werkzeug:\u001b[33mPress CTRL+C to quit\u001b[0m\n",
            "INFO:werkzeug: * Restarting with stat\n"
          ]
        }
      ]
    },
    {
      "cell_type": "markdown",
      "source": [
        "## Save Cleaned Data for Dashboard\n"
      ],
      "metadata": {
        "id": "i3DxJCit4Xac"
      }
    },
    {
      "cell_type": "code",
      "source": [
        "cleaned_data_path = \"/content/cleaned_data.csv\"\n",
        "data.to_csv(cleaned_data_path, index=False)\n",
        "print(f\"Cleaned data saved to: {cleaned_data_path}\")"
      ],
      "metadata": {
        "colab": {
          "base_uri": "https://localhost:8080/"
        },
        "id": "L8AzE_cE4cXb",
        "outputId": "0ca85548-a62c-4bad-896a-b994cd2b8dad"
      },
      "execution_count": 24,
      "outputs": [
        {
          "output_type": "stream",
          "name": "stdout",
          "text": [
            "Cleaned data saved to: /content/cleaned_data.csv\n"
          ]
        }
      ]
    }
  ]
}